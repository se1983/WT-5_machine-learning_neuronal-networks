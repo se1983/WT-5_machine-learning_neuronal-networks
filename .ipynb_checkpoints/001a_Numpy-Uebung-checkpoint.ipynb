{
 "cells": [
  {
   "cell_type": "markdown",
   "metadata": {},
   "source": [
    "## Übung: Numpy"
   ]
  },
  {
   "cell_type": "code",
   "execution_count": 3,
   "metadata": {
    "collapsed": true
   },
   "outputs": [],
   "source": [
    "import numpy as np"
   ]
  },
  {
   "cell_type": "markdown",
   "metadata": {},
   "source": [
    "Lösen Sie folgende Aufgaben.\n",
    "\n",
    "Hinweise:\n",
    "\n",
    "- Verwenden Sie zur Lösung der Aufgaben keine Schleifen.\n",
    "- Machen Sie sich zuvor ausführlich mit Numpy vertraut.\n",
    "- Machen Sie sich ausführlich mit Slicing und Indexing vertraut, siehe auch:\n",
    "    http://docs.scipy.org/doc/numpy/reference/arrays.indexing.html"
   ]
  },
  {
   "cell_type": "markdown",
   "metadata": {},
   "source": [
    "#### Erzeugen Sie einen Null-Vektor der Länge 10, mit Ausnahme des fünften Elementes, dass 1 sein soll."
   ]
  },
  {
   "cell_type": "code",
   "execution_count": 4,
   "metadata": {},
   "outputs": [
    {
     "data": {
      "text/plain": [
       "array([ 0.,  0.,  0.,  0.,  0.,  1.,  0.,  0.,  0.,  0.])"
      ]
     },
     "execution_count": 4,
     "metadata": {},
     "output_type": "execute_result"
    }
   ],
   "source": [
    "a = np.zeros(10)\n",
    "a[5] = 1\n",
    "a"
   ]
  },
  {
   "cell_type": "markdown",
   "metadata": {},
   "source": [
    "#### Umdrehen eines Vektors\n",
    "    \n",
    "    z = np.arange(50)\n",
    "\n",
    "Drehen Sie die Reihenfolge der Element von z um, d.h. das erste Element wird das letzte, das zweite das vorletzte, etc. "
   ]
  },
  {
   "cell_type": "code",
   "execution_count": 5,
   "metadata": {},
   "outputs": [
    {
     "data": {
      "text/plain": [
       "array([49, 48, 47, 46, 45, 44, 43, 42, 41, 40, 39, 38, 37, 36, 35, 34, 33,\n",
       "       32, 31, 30, 29, 28, 27, 26, 25, 24, 23, 22, 21, 20, 19, 18, 17, 16,\n",
       "       15, 14, 13, 12, 11, 10,  9,  8,  7,  6,  5,  4,  3,  2,  1,  0])"
      ]
     },
     "execution_count": 5,
     "metadata": {},
     "output_type": "execute_result"
    }
   ],
   "source": [
    "z = np.arange(50)\n",
    "z[::-1]"
   ]
  },
  {
   "cell_type": "markdown",
   "metadata": {},
   "source": [
    "#### Finden Sie die Indizes der Nicht-Null Elemente von [1,2,0,0,4,0] "
   ]
  },
  {
   "cell_type": "code",
   "execution_count": 6,
   "metadata": {},
   "outputs": [
    {
     "data": {
      "text/plain": [
       "(array([0, 1, 2]),)"
      ]
     },
     "execution_count": 6,
     "metadata": {},
     "output_type": "execute_result"
    }
   ],
   "source": [
    "a = np.array([1,2,0,0,4,0])\n",
    "\n",
    "func = lambda x: x != 0\n",
    "\n",
    "#np.where(a[a != 0])\n",
    "np.where(a[func(a)])"
   ]
  },
  {
   "cell_type": "markdown",
   "metadata": {},
   "source": [
    "#### Erzeugen Sie ein 10x10 Array mit Zufallswerten und finden Sie den kleinsten und größten Wert. "
   ]
  },
  {
   "cell_type": "code",
   "execution_count": 14,
   "metadata": {},
   "outputs": [
    {
     "data": {
      "text/plain": [
       "(99574516, 341845)"
      ]
     },
     "execution_count": 14,
     "metadata": {},
     "output_type": "execute_result"
    }
   ],
   "source": [
    "np.random.seed(0)\n",
    "\n",
    "x = np.random.randint(100000000, size=(10, 10))\n",
    "x.max(), x.min()"
   ]
  },
  {
   "cell_type": "markdown",
   "metadata": {},
   "source": [
    "#### Erzeugen Sie ein Vektor der Länge 50 mit Zufallswerten und berechnen Sie den Durchschnittswert. "
   ]
  },
  {
   "cell_type": "code",
   "execution_count": 20,
   "metadata": {},
   "outputs": [
    {
     "data": {
      "text/plain": [
       "48.520000000000003"
      ]
     },
     "execution_count": 20,
     "metadata": {},
     "output_type": "execute_result"
    }
   ],
   "source": [
    "np.average(np.random.randint(100, size=50))"
   ]
  },
  {
   "cell_type": "markdown",
   "metadata": {},
   "source": [
    "#### Erklären Sie folgende Ergebnisse"
   ]
  },
  {
   "cell_type": "code",
   "execution_count": 23,
   "metadata": {},
   "outputs": [
    {
     "name": "stdout",
     "output_type": "stream",
     "text": [
      "nan\n",
      "False\n",
      "False\n",
      "nan\n",
      "False\n"
     ]
    }
   ],
   "source": [
    "#: Produkte mit nan sind nan\n",
    "print(0 * np.nan)\n",
    "\n",
    "#: Gleichheitsoperatoren auf nan geben immer False zurück.\n",
    "print(np.nan == np.nan)\n",
    "\n",
    "#: Größenvergleiche auf nan geben immer False zurück.\n",
    "print(np.inf > np.nan)\n",
    "\n",
    "#: nan minus nan ist nan\n",
    "print(np.nan - np.nan)\n",
    "\n",
    "#: Rechenoperationen sind Fehlerbehaftet\n",
    "print(0.3 == 3 * 0.1)"
   ]
  },
  {
   "cell_type": "markdown",
   "metadata": {},
   "source": [
    "#### Erzeugen Sie eine 8x8 Matrix und füllen Sie diese mit einem Schachbrettmuster (0 und 1)"
   ]
  },
  {
   "cell_type": "code",
   "execution_count": 32,
   "metadata": {},
   "outputs": [
    {
     "data": {
      "text/plain": [
       "array([[0, 1, 0, ..., 1, 0, 1],\n",
       "       [1, 0, 1, ..., 0, 1, 0],\n",
       "       [0, 1, 0, ..., 1, 0, 1],\n",
       "       ..., \n",
       "       [1, 0, 1, ..., 0, 1, 0],\n",
       "       [0, 1, 0, ..., 1, 0, 1],\n",
       "       [1, 0, 1, ..., 0, 1, 0]])"
      ]
     },
     "execution_count": 32,
     "metadata": {},
     "output_type": "execute_result"
    }
   ],
   "source": [
    "row = lambda a,b : np.r_[ 50*[a,b]]\n",
    "\n",
    "np.row_stack(25 * (row(0,1), row(1,0)) )  "
   ]
  },
  {
   "cell_type": "markdown",
   "metadata": {},
   "source": [
    "#### Normalisieren Sie eine  5x5 Zufallsmatrix auf Werte zwischen 0 und 1 \n",
    "\n",
    "D.h. der kleinste Werte soll genau 0 und der größte 1 sein.\n"
   ]
  },
  {
   "cell_type": "code",
   "execution_count": 65,
   "metadata": {},
   "outputs": [
    {
     "data": {
      "text/plain": [
       "array([[ 0.        ,  0.        ,  0.73719765,  0.30358227,  0.72884139],\n",
       "       [ 0.65812825,  0.58925985,  0.77639914,  0.89537344,  0.        ],\n",
       "       [ 1.        ,  0.20626749,  0.        ,  0.        ,  1.        ],\n",
       "       [ 0.33853081,  1.        ,  1.        ,  1.        ,  0.0190939 ],\n",
       "       [ 0.52987912,  0.09406981,  0.2987551 ,  0.20085637,  0.77312052]])"
      ]
     },
     "execution_count": 65,
     "metadata": {},
     "output_type": "execute_result"
    }
   ],
   "source": [
    "from sklearn import preprocessing\n",
    "min_max_scaler = preprocessing.MinMaxScaler()\n",
    "\n",
    "min_max_scaler.fit_transform(  np.random.random(size=(5,5))  )\n",
    "\n"
   ]
  },
  {
   "cell_type": "markdown",
   "metadata": {},
   "source": [
    "#### Gegeben sei ein 1D Array, negieren Sie alle Element zwischen 3 und 8 (in place)\n",
    "\n",
    "     Z = np.arange(11)"
   ]
  },
  {
   "cell_type": "code",
   "execution_count": 103,
   "metadata": {},
   "outputs": [
    {
     "data": {
      "text/plain": [
       "array([ 0,  1,  2,  3, -4, -5, -6, -7,  8,  9, 10])"
      ]
     },
     "execution_count": 103,
     "metadata": {},
     "output_type": "execute_result"
    }
   ],
   "source": [
    "#fun = lambda x : x in range(3, 7)\n",
    "Z = np.arange(11)\n",
    "Z[np.where(np.logical_and(Z>3, Z<8))] = np.negative(Z[np.where(np.logical_and(Z>3, Z<8))])\n",
    "Z"
   ]
  },
  {
   "cell_type": "markdown",
   "metadata": {},
   "source": [
    "#### Import per *\n",
    "\n",
    "Erklären Sie die Ausgabe des folgenden Codes:\n",
    "\n",
    "    print(sum(range(5),-1))\n",
    "    from numpy import *\n",
    "    print(sum(range(5),-1))"
   ]
  },
  {
   "cell_type": "markdown",
   "metadata": {},
   "source": [
    "#### Erzeugen Sie eine Zufallsvektor (Länge 100) und sortieren Sie ihn. "
   ]
  },
  {
   "cell_type": "code",
   "execution_count": null,
   "metadata": {
    "collapsed": true
   },
   "outputs": [],
   "source": []
  },
  {
   "cell_type": "markdown",
   "metadata": {},
   "source": [
    "#### Überprüfen Sie, ob zwei Arrays  A und B gleich sind.\n",
    "\n",
    "    A = np.random.random((3,4))\n",
    "    B = A.copy()\n",
    "    B[1,2] = A[1,2] * 1.00000000000001\n",
    "\n",
    "     \n",
    "- Alle Elemente sollen exakt übereinstimmen     \n",
    "- Gleichheit im Rahmen einer Toleranzgrenze. Hier soll Gleichheit im Rahmen der Toleranz gegebensein."
   ]
  },
  {
   "cell_type": "code",
   "execution_count": null,
   "metadata": {
    "collapsed": true
   },
   "outputs": [],
   "source": []
  },
  {
   "cell_type": "markdown",
   "metadata": {},
   "source": [
    "\n",
    "#### Arrays: Erzeugen und Summe\n",
    "\n",
    "Erzeugen Sie (möglichst kurz) die abgebildete Matrix (mit `np.array`) und speichen Sie diese in der Variable `arr`.\n",
    "\n",
    "$$\n",
    "\\begin{bmatrix}\n",
    "1 & 1 & 1 &1  &1 \\\\ \n",
    "1 & 2 & 1 & 1 & 1\\\\ \n",
    "1 & 1 & 3 & 1 & 1\\\\ \n",
    "1 &1  & 1 & 4 & 1\n",
    "\\end{bmatrix}\n",
    "$$\n",
    "\n",
    "Berechnen Sie die Summe \n",
    "- der einzelnen Zeilen \n",
    "- der einzelnen Spalten\n"
   ]
  },
  {
   "cell_type": "code",
   "execution_count": null,
   "metadata": {
    "collapsed": true
   },
   "outputs": [],
   "source": []
  },
  {
   "cell_type": "code",
   "execution_count": null,
   "metadata": {
    "collapsed": true
   },
   "outputs": [],
   "source": []
  },
  {
   "cell_type": "markdown",
   "metadata": {},
   "source": [
    "#### Slicing und Indexing\n",
    "\n",
    "Erzeugen Sie eine 2 x 2 Matrix aus `arr`:  Diese soll Werte der zweiten und dritten Zeile und der geraden Spalten von `arr` enthalten (d.h. Spalte 2 und 4).\n",
    "Wenden Sie hierzu unterschiedliche Methoden (siehe http://docs.scipy.org/doc/numpy/reference/arrays.indexing.html) an\n",
    "- integer array indexes\n",
    "- slices\n",
    "- boolean arrays\n"
   ]
  },
  {
   "cell_type": "code",
   "execution_count": 3,
   "metadata": {
    "collapsed": true
   },
   "outputs": [],
   "source": [
    "# interger indexing\n"
   ]
  },
  {
   "cell_type": "code",
   "execution_count": 4,
   "metadata": {
    "collapsed": true
   },
   "outputs": [],
   "source": [
    "# slices\n"
   ]
  },
  {
   "cell_type": "code",
   "execution_count": 5,
   "metadata": {
    "collapsed": true
   },
   "outputs": [],
   "source": [
    "# boolean arrays\n"
   ]
  },
  {
   "cell_type": "markdown",
   "metadata": {},
   "source": [
    "#### Broadcasting\n",
    "Studieren Sie folgende Seite:\n",
    "- http://docs.scipy.org/doc/numpy-1.10.1/user/basics.broadcasting.html\n",
    "\n",
    "Führen Sie auf `arr` folgende Operationen durch und erklären Sie, was diese bedeuten:\n",
    "   \n",
    "     arr * 5.\n",
    "     arr * np.arange(arr.shape[1])\n",
    "     arr * np.arange(arr.shape[0])\n",
    "     arr.T * np.arange(arr.shape[0])\n",
    "   \n",
    "Multiplizieren Sie `arr` mit dem Vektor $v = (0, 1, 2, 3, 4)$ auf zwei verschiedene Weisen.\n"
   ]
  },
  {
   "cell_type": "code",
   "execution_count": null,
   "metadata": {
    "collapsed": true
   },
   "outputs": [],
   "source": []
  },
  {
   "cell_type": "code",
   "execution_count": null,
   "metadata": {
    "collapsed": true
   },
   "outputs": [],
   "source": []
  },
  {
   "cell_type": "code",
   "execution_count": null,
   "metadata": {
    "collapsed": true
   },
   "outputs": [],
   "source": []
  },
  {
   "cell_type": "markdown",
   "metadata": {},
   "source": [
    "##### Matrix-Vektorprodukt\n",
    "\n",
    "Berechnen Sie das Matrix-Vektor-Produkt (dot product) von `arr` mit $v$\n",
    "     \n",
    "$\n",
    "v = (1,2,3,4,5,6)^T\n",
    "$"
   ]
  }
 ],
 "metadata": {
  "kernelspec": {
   "display_name": "Python 3",
   "language": "python",
   "name": "python3"
  },
  "language_info": {
   "codemirror_mode": {
    "name": "ipython",
    "version": 3
   },
   "file_extension": ".py",
   "mimetype": "text/x-python",
   "name": "python",
   "nbconvert_exporter": "python",
   "pygments_lexer": "ipython3",
   "version": "3.6.1"
  }
 },
 "nbformat": 4,
 "nbformat_minor": 1
}

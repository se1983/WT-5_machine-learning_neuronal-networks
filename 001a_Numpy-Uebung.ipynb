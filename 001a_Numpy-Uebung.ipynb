{
 "cells": [
  {
   "cell_type": "markdown",
   "metadata": {},
   "source": [
    "## Übung: Numpy"
   ]
  },
  {
   "cell_type": "code",
   "execution_count": 1,
   "metadata": {
    "collapsed": true
   },
   "outputs": [],
   "source": [
    "import numpy as np"
   ]
  },
  {
   "cell_type": "markdown",
   "metadata": {},
   "source": [
    "Lösen Sie folgende Aufgaben.\n",
    "\n",
    "Hinweise:\n",
    "\n",
    "- Verwenden Sie zur Lösung der Aufgaben keine Schleifen.\n",
    "- Machen Sie sich zuvor ausführlich mit Numpy vertraut.\n",
    "- Machen Sie sich ausführlich mit Slicing und Indexing vertraut, siehe auch:\n",
    "    http://docs.scipy.org/doc/numpy/reference/arrays.indexing.html"
   ]
  },
  {
   "cell_type": "markdown",
   "metadata": {},
   "source": [
    "#### Erzeugen Sie einen Null-Vektor der Länge 10, mit Ausnahme des fünften Elementes, dass 1 sein soll."
   ]
  },
  {
   "cell_type": "code",
   "execution_count": 2,
   "metadata": {
    "collapsed": false
   },
   "outputs": [
    {
     "data": {
      "text/plain": [
       "array([ 0.,  0.,  0.,  0.,  0.,  1.,  0.,  0.,  0.,  0.])"
      ]
     },
     "execution_count": 2,
     "metadata": {},
     "output_type": "execute_result"
    }
   ],
   "source": [
    "a = np.zeros(10)\n",
    "a[5] = 1\n",
    "a"
   ]
  },
  {
   "cell_type": "markdown",
   "metadata": {},
   "source": [
    "#### Umdrehen eines Vektors\n",
    "    \n",
    "    z = np.arange(50)\n",
    "\n",
    "Drehen Sie die Reihenfolge der Element von z um, d.h. das erste Element wird das letzte, das zweite das vorletzte, etc. "
   ]
  },
  {
   "cell_type": "code",
   "execution_count": 3,
   "metadata": {
    "collapsed": false
   },
   "outputs": [
    {
     "data": {
      "text/plain": [
       "array([49, 48, 47, 46, 45, 44, 43, 42, 41, 40, 39, 38, 37, 36, 35, 34, 33,\n",
       "       32, 31, 30, 29, 28, 27, 26, 25, 24, 23, 22, 21, 20, 19, 18, 17, 16,\n",
       "       15, 14, 13, 12, 11, 10,  9,  8,  7,  6,  5,  4,  3,  2,  1,  0])"
      ]
     },
     "execution_count": 3,
     "metadata": {},
     "output_type": "execute_result"
    }
   ],
   "source": [
    "z = np.arange(50)\n",
    "z[::-1]"
   ]
  },
  {
   "cell_type": "markdown",
   "metadata": {},
   "source": [
    "#### Finden Sie die Indizes der Nicht-Null Elemente von [1,2,0,0,4,0] "
   ]
  },
  {
   "cell_type": "code",
   "execution_count": 4,
   "metadata": {
    "collapsed": false
   },
   "outputs": [
    {
     "data": {
      "text/plain": [
       "(array([0, 1, 2]),)"
      ]
     },
     "execution_count": 4,
     "metadata": {},
     "output_type": "execute_result"
    }
   ],
   "source": [
    "a = np.array([1,2,0,0,4,0])\n",
    "\n",
    "func = lambda x: x != 0\n",
    "\n",
    "#np.where(a[a != 0])\n",
    "np.where(a[func(a)])"
   ]
  },
  {
   "cell_type": "markdown",
   "metadata": {},
   "source": [
    "#### Erzeugen Sie ein 10x10 Array mit Zufallswerten und finden Sie den kleinsten und größten Wert. "
   ]
  },
  {
   "cell_type": "code",
   "execution_count": 5,
   "metadata": {
    "collapsed": false
   },
   "outputs": [
    {
     "data": {
      "text/plain": [
       "(99574516, 341845)"
      ]
     },
     "execution_count": 5,
     "metadata": {},
     "output_type": "execute_result"
    }
   ],
   "source": [
    "np.random.seed(0)\n",
    "\n",
    "x = np.random.randint(100000000, size=(10, 10))\n",
    "x.max(), x.min()"
   ]
  },
  {
   "cell_type": "markdown",
   "metadata": {},
   "source": [
    "#### Erzeugen Sie ein Vektor der Länge 50 mit Zufallswerten und berechnen Sie den Durchschnittswert. "
   ]
  },
  {
   "cell_type": "code",
   "execution_count": 6,
   "metadata": {
    "collapsed": false
   },
   "outputs": [
    {
     "data": {
      "text/plain": [
       "47.240000000000002"
      ]
     },
     "execution_count": 6,
     "metadata": {},
     "output_type": "execute_result"
    }
   ],
   "source": [
    "np.average(np.random.randint(100, size=50))"
   ]
  },
  {
   "cell_type": "markdown",
   "metadata": {},
   "source": [
    "#### Erklären Sie folgende Ergebnisse"
   ]
  },
  {
   "cell_type": "code",
   "execution_count": 7,
   "metadata": {
    "collapsed": false
   },
   "outputs": [
    {
     "name": "stdout",
     "output_type": "stream",
     "text": [
      "nan\n",
      "False\n",
      "False\n",
      "nan\n",
      "False\n"
     ]
    }
   ],
   "source": [
    "#: Produkte mit nan sind nan\n",
    "print(0 * np.nan)\n",
    "\n",
    "#: Gleichheitsoperatoren auf nan geben immer False zurück.\n",
    "print(np.nan == np.nan)\n",
    "\n",
    "#: Größenvergleiche auf nan geben immer False zurück.\n",
    "print(np.inf > np.nan)\n",
    "\n",
    "#: nan minus nan ist nan\n",
    "print(np.nan - np.nan)\n",
    "\n",
    "#: Rechenoperationen sind Fehlerbehaftet\n",
    "print(0.3 == 3 * 0.1)"
   ]
  },
  {
   "cell_type": "markdown",
   "metadata": {},
   "source": [
    "#### Erzeugen Sie eine 8x8 Matrix und füllen Sie diese mit einem Schachbrettmuster (0 und 1)"
   ]
  },
  {
   "cell_type": "code",
   "execution_count": 8,
   "metadata": {
    "collapsed": false
   },
   "outputs": [
    {
     "data": {
      "text/plain": [
       "array([[0, 1, 0, ..., 1, 0, 1],\n",
       "       [1, 0, 1, ..., 0, 1, 0],\n",
       "       [0, 1, 0, ..., 1, 0, 1],\n",
       "       ..., \n",
       "       [1, 0, 1, ..., 0, 1, 0],\n",
       "       [0, 1, 0, ..., 1, 0, 1],\n",
       "       [1, 0, 1, ..., 0, 1, 0]])"
      ]
     },
     "execution_count": 8,
     "metadata": {},
     "output_type": "execute_result"
    }
   ],
   "source": [
    "row = lambda a,b : np.r_[ 50*[a,b]]\n",
    "\n",
    "np.row_stack(25 * (row(0,1), row(1,0)) )  "
   ]
  },
  {
   "cell_type": "markdown",
   "metadata": {},
   "source": [
    "#### Normalisieren Sie eine  5x5 Zufallsmatrix auf Werte zwischen 0 und 1 \n",
    "\n",
    "D.h. der kleinste Werte soll genau 0 und der größte 1 sein.\n"
   ]
  },
  {
   "cell_type": "code",
   "execution_count": 9,
   "metadata": {
    "collapsed": false
   },
   "outputs": [
    {
     "data": {
      "text/plain": [
       "array([[ 0.        ,  0.62117717,  0.62288254,  0.32957377,  0.06733674],\n",
       "       [ 1.        ,  0.        ,  0.88675163,  1.        ,  0.87054214],\n",
       "       [ 0.87525751,  0.19008846,  1.        ,  0.        ,  0.6522766 ],\n",
       "       [ 0.43528562,  1.        ,  0.        ,  0.37690683,  1.        ],\n",
       "       [ 0.72502665,  0.94354327,  0.38888561,  0.21872378,  0.        ]])"
      ]
     },
     "execution_count": 9,
     "metadata": {},
     "output_type": "execute_result"
    }
   ],
   "source": [
    "from sklearn import preprocessing\n",
    "min_max_scaler = preprocessing.MinMaxScaler()\n",
    "\n",
    "min_max_scaler.fit_transform(  np.random.random(size=(5,5))  )\n",
    "\n"
   ]
  },
  {
   "cell_type": "markdown",
   "metadata": {},
   "source": [
    "#### Gegeben sei ein 1D Array, negieren Sie alle Element zwischen 3 und 8 (in place)\n",
    "\n",
    "     Z = np.arange(11)"
   ]
  },
  {
   "cell_type": "code",
   "execution_count": 10,
   "metadata": {
    "collapsed": false
   },
   "outputs": [
    {
     "data": {
      "text/plain": [
       "array([ 0,  1,  2,  3, -4, -5, -6, -7,  8,  9, 10])"
      ]
     },
     "execution_count": 10,
     "metadata": {},
     "output_type": "execute_result"
    }
   ],
   "source": [
    "#fun = lambda x : x in range(3, 7)\n",
    "Z = np.arange(11)\n",
    "Z[np.where(np.logical_and(Z>3, Z<8))] = np.negative(Z[np.where(np.logical_and(Z>3, Z<8))])\n",
    "Z"
   ]
  },
  {
   "cell_type": "markdown",
   "metadata": {},
   "source": [
    "#### Import per *\n",
    "\n",
    "Erklären Sie die Ausgabe des folgenden Codes:\n",
    "\n",
    "    print(sum(range(5),-1))\n",
    "    from numpy import *\n",
    "    print(sum(range(5),-1))"
   ]
  },
  {
   "cell_type": "code",
   "execution_count": 11,
   "metadata": {
    "collapsed": false
   },
   "outputs": [
    {
     "name": "stdout",
     "output_type": "stream",
     "text": [
      "9\n",
      "<method-wrapper '__repr__' of builtin_function_or_method object at 0x7f0b31c9f120>\n",
      "<slot wrapper '__repr__' of 'range' objects>\n",
      "10\n",
      "<method-wrapper '__repr__' of function object at 0x7f0b240e0f28>\n",
      "<slot wrapper '__repr__' of 'range' objects>\n"
     ]
    }
   ],
   "source": [
    "# Hier wird zur summe von 0-4  noch -1 addiert.\n",
    "print(sum(range(5),-1))\n",
    "print(f\"{sum.__repr__}\\n{range.__repr__}\")\n",
    "\n",
    "\n",
    "from numpy import *\n",
    "\n",
    "# Das -1 beschreibt hier die Dimension, Da es nur eine gibt => keine Änderung.\n",
    "print(sum(range(5),axis=-1))\n",
    "print(f\"{sum.__repr__}\\n{range.__repr__}\")"
   ]
  },
  {
   "cell_type": "markdown",
   "metadata": {},
   "source": [
    "#### Erzeugen Sie eine Zufallsvektor (Länge 100) und sortieren Sie ihn. "
   ]
  },
  {
   "cell_type": "code",
   "execution_count": 12,
   "metadata": {
    "collapsed": false
   },
   "outputs": [
    {
     "data": {
      "image/png": "[encoded data removed]",
      "text/plain": [
       "<matplotlib.figure.Figure at 0x7f0afc926048>"
      ]
     },
     "metadata": {},
     "output_type": "display_data"
    }
   ],
   "source": [
    "%matplotlib inline\n",
    "import matplotlib.pyplot as plt\n",
    "\n",
    "A = np.random.random(size=100)\n",
    "\n",
    "ax = plt.plot(np.sort( A ))"
   ]
  },
  {
   "cell_type": "markdown",
   "metadata": {},
   "source": [
    "#### Überprüfen Sie, ob zwei Arrays  A und B gleich sind.\n",
    "\n",
    "    A = np.random.random((3,4))\n",
    "    B = A.copy()\n",
    "    B[1,2] = A[1,2] * 1.00000000000001\n",
    "\n",
    "     \n",
    "- Alle Elemente sollen exakt übereinstimmen     \n",
    "- Gleichheit im Rahmen einer Toleranzgrenze. Hier soll Gleichheit im Rahmen der Toleranz gegebensein."
   ]
  },
  {
   "cell_type": "code",
   "execution_count": 13,
   "metadata": {
    "collapsed": false
   },
   "outputs": [
    {
     "name": "stdout",
     "output_type": "stream",
     "text": [
      " Exakt gleich:  \t False \n",
      " Mit Toleranz:  \t True\n"
     ]
    }
   ],
   "source": [
    "A = np.random.random((3,4))\n",
    "B = A.copy()\n",
    "B[1,2] = A[1,2] * 1.00000000000001\n",
    "\n",
    "print(f\" Exakt gleich:  \\t {np.array_equal(A, B)} \\n Mit Toleranz:  \\t {np.allclose(A, B, 1.00000000000001)}\")"
   ]
  },
  {
   "cell_type": "markdown",
   "metadata": {},
   "source": [
    "\n",
    "#### Arrays: Erzeugen und Summe\n",
    "\n",
    "Erzeugen Sie (möglichst kurz) die abgebildete Matrix (mit `np.array`) und speichen Sie diese in der Variable `arr`.\n",
    "\n",
    "$$\n",
    "\\begin{bmatrix}\n",
    "1 & 1 & 1 &1  &1 \\\\ \n",
    "1 & 2 & 1 & 1 & 1\\\\ \n",
    "1 & 1 & 3 & 1 & 1\\\\ \n",
    "1 &1  & 1 & 4 & 1\n",
    "\\end{bmatrix}\n",
    "$$\n",
    "\n",
    "Berechnen Sie die Summe \n",
    "- der einzelnen Zeilen \n",
    "- der einzelnen Spalten\n"
   ]
  },
  {
   "cell_type": "code",
   "execution_count": 14,
   "metadata": {
    "collapsed": false
   },
   "outputs": [
    {
     "data": {
      "text/plain": [
       "array([[ 1.,  1.,  1.,  1.,  1.],\n",
       "       [ 1.,  2.,  1.,  1.,  1.],\n",
       "       [ 1.,  1.,  3.,  1.,  1.],\n",
       "       [ 1.,  1.,  1.,  4.,  1.]])"
      ]
     },
     "execution_count": 14,
     "metadata": {},
     "output_type": "execute_result"
    }
   ],
   "source": [
    "arr = ones(5*4).reshape((4,5)) + np.c_[np.diag(range(0,4)), np.zeros(4)]\n",
    "arr"
   ]
  },
  {
   "cell_type": "code",
   "execution_count": 15,
   "metadata": {
    "collapsed": false
   },
   "outputs": [
    {
     "name": "stdout",
     "output_type": "stream",
     "text": [
      "Σ Cols: [ 4.  5.  6.  7.  4.]\n",
      "Σ Rows: [ 5.  6.  7.  8.]\n"
     ]
    }
   ],
   "source": [
    "print(f\"Σ Cols: {arr.sum(axis=0)}\\n\"\n",
    "      f\"Σ Rows: {arr.sum(axis=1)}\")"
   ]
  },
  {
   "cell_type": "markdown",
   "metadata": {},
   "source": [
    "#### Slicing und Indexing\n",
    "\n",
    "Erzeugen Sie eine 2 x 2 Matrix aus `arr`:  Diese soll Werte der zweiten und dritten Zeile und der geraden Spalten von `arr` enthalten (d.h. Spalte 2 und 4).\n",
    "\n",
    "$$\n",
    "\\begin{bmatrix}\n",
    "1 & 1 & 1 &1  &1 \\\\ \n",
    "1 & \\textbf{2} & 1 & \\textbf{1} & 1\\\\ \n",
    "1 & \\textbf{1} & 3 & \\textbf{1} & {1}\\\\ \n",
    "1 &1  & 1 & 4 & 1\n",
    "\\end{bmatrix}\n",
    "$$\n",
    "\n",
    "Wenden Sie hierzu unterschiedliche Methoden (siehe http://docs.scipy.org/doc/numpy/reference/arrays.indexing.html) an\n",
    "- integer array indexes\n",
    "- slices\n",
    "- boolean arrays\n"
   ]
  },
  {
   "cell_type": "markdown",
   "metadata": {},
   "source": [
    "## Integer array indexes\n",
    "\n",
    "1. Definition der Auswahlelemente für reihen und spalten\n",
    "    * Zu beachten ist, dass das Auswahlwerkzeug bereits die Dimensionen der Endmatritze haben muss"
   ]
  },
  {
   "cell_type": "code",
   "execution_count": 16,
   "metadata": {
    "collapsed": false
   },
   "outputs": [
    {
     "data": {
      "text/plain": [
       "array([[ 2.,  1.],\n",
       "       [ 1.,  1.]])"
      ]
     },
     "execution_count": 16,
     "metadata": {},
     "output_type": "execute_result"
    }
   ],
   "source": [
    "# interger indexing\n",
    "rows = np.array([[1, 1],\n",
    "                 [2, 2]], dtype=np.intp)\n",
    "\n",
    "cols = np.array([[1, 3],\n",
    "                 [1, 3]], dtype=np.intp)\n",
    "\n",
    "inte_arr = arr[rows, cols]\n",
    "inte_arr"
   ]
  },
  {
   "cell_type": "markdown",
   "metadata": {},
   "source": [
    "# Slicing\n",
    "\n",
    "* [start : stop : step] , Komma trennt die Achsen "
   ]
  },
  {
   "cell_type": "code",
   "execution_count": 17,
   "metadata": {
    "collapsed": false
   },
   "outputs": [
    {
     "data": {
      "text/plain": [
       "array([[ 2.,  1.],\n",
       "       [ 1.,  1.]])"
      ]
     },
     "execution_count": 17,
     "metadata": {},
     "output_type": "execute_result"
    }
   ],
   "source": [
    "# slices\n",
    "slic_arr = arr[1:3,1:4:2]\n",
    "slic_arr"
   ]
  },
  {
   "cell_type": "markdown",
   "metadata": {},
   "source": [
    "## Boolsche Arrays\n",
    "\n"
   ]
  },
  {
   "cell_type": "code",
   "execution_count": 18,
   "metadata": {
    "collapsed": false
   },
   "outputs": [
    {
     "data": {
      "text/plain": [
       "array([[ 2.,  1.],\n",
       "       [ 1.,  1.]])"
      ]
     },
     "execution_count": 18,
     "metadata": {},
     "output_type": "execute_result"
    }
   ],
   "source": [
    "# boolean arrays\n",
    "rows = [1, 2]\n",
    "cols = (arr.sum(0) % 2) != 0\n",
    "bool_arr = arr[np.ix_(rows, cols)]\n",
    "bool_arr"
   ]
  },
  {
   "cell_type": "code",
   "execution_count": 19,
   "metadata": {
    "collapsed": true
   },
   "outputs": [],
   "source": [
    "np.ix_?"
   ]
  },
  {
   "cell_type": "code",
   "execution_count": 20,
   "metadata": {
    "collapsed": false
   },
   "outputs": [
    {
     "data": {
      "text/plain": [
       "[[False, False, False, False, False],\n",
       " [False, True, False, True, False],\n",
       " [False, True, False, True, False],\n",
       " [False, False, False, False, False]]"
      ]
     },
     "execution_count": 20,
     "metadata": {},
     "output_type": "execute_result"
    }
   ],
   "source": [
    "[\n",
    " [False for _ in range(5)], \n",
    " [x==1 or x==3 for x in range(5)], \n",
    " [x==1 or x==3 for x in range(5)],\n",
    " [False for _ in range(5)]\n",
    "]"
   ]
  },
  {
   "cell_type": "markdown",
   "metadata": {},
   "source": [
    "#### Broadcasting\n",
    "Studieren Sie folgende Seite:\n",
    "- http://docs.scipy.org/doc/numpy-1.10.1/user/basics.broadcasting.html\n",
    "\n",
    "Führen Sie auf `arr` folgende Operationen durch und erklären Sie, was diese bedeuten:\n",
    "   \n",
    "     arr * 5.\n",
    "     arr * np.arange(arr.shape[1])\n",
    "     arr * np.arange(arr.shape[0])\n",
    "     arr.T * np.arange(arr.shape[0])\n",
    "   \n",
    "Multiplizieren Sie `arr` mit dem Vektor $v = (0, 1, 2, 3, 4)$ auf zwei verschiedene Weisen.\n"
   ]
  },
  {
   "cell_type": "code",
   "execution_count": 21,
   "metadata": {
    "collapsed": false
   },
   "outputs": [
    {
     "data": {
      "text/plain": [
       "array([[  5.,   5.,   5.,   5.,   5.],\n",
       "       [  5.,  10.,   5.,   5.,   5.],\n",
       "       [  5.,   5.,  15.,   5.,   5.],\n",
       "       [  5.,   5.,   5.,  20.,   5.]])"
      ]
     },
     "execution_count": 21,
     "metadata": {},
     "output_type": "execute_result"
    }
   ],
   "source": [
    "# 5 will be used like a scalar. It fullfills the dimension of arr like it's beeing stretched\n",
    "arr * 5"
   ]
  },
  {
   "cell_type": "code",
   "execution_count": 22,
   "metadata": {
    "collapsed": false
   },
   "outputs": [
    {
     "data": {
      "text/plain": [
       "array([[  0.,   1.,   2.,   3.,   4.],\n",
       "       [  0.,   2.,   2.,   3.,   4.],\n",
       "       [  0.,   1.,   6.,   3.,   4.],\n",
       "       [  0.,   1.,   2.,  12.,   4.]])"
      ]
     },
     "execution_count": 22,
     "metadata": {},
     "output_type": "execute_result"
    }
   ],
   "source": [
    "arr * np.arange(arr.shape[1])"
   ]
  },
  {
   "cell_type": "code",
   "execution_count": 23,
   "metadata": {
    "collapsed": false
   },
   "outputs": [
    {
     "ename": "ValueError",
     "evalue": "operands could not be broadcast together with shapes (4,5) (4,) ",
     "output_type": "error",
     "traceback": [
      "\u001b[0;31m---------------------------------------------------------------------------\u001b[0m",
      "\u001b[0;31mValueError\u001b[0m                                Traceback (most recent call last)",
      "\u001b[0;32m<ipython-input-23-7c4c1694495a>\u001b[0m in \u001b[0;36m<module>\u001b[0;34m()\u001b[0m\n\u001b[0;32m----> 1\u001b[0;31m \u001b[0marr\u001b[0m \u001b[0;34m*\u001b[0m \u001b[0mnp\u001b[0m\u001b[0;34m.\u001b[0m\u001b[0marange\u001b[0m\u001b[0;34m(\u001b[0m\u001b[0marr\u001b[0m\u001b[0;34m.\u001b[0m\u001b[0mshape\u001b[0m\u001b[0;34m[\u001b[0m\u001b[0;36m0\u001b[0m\u001b[0;34m]\u001b[0m\u001b[0;34m)\u001b[0m\u001b[0;34m\u001b[0m\u001b[0m\n\u001b[0m",
      "\u001b[0;31mValueError\u001b[0m: operands could not be broadcast together with shapes (4,5) (4,) "
     ]
    }
   ],
   "source": [
    "arr * np.arange(arr.shape[0])"
   ]
  },
  {
   "cell_type": "code",
   "execution_count": 28,
   "metadata": {
    "collapsed": false
   },
   "outputs": [
    {
     "data": {
      "text/plain": [
       "(4, 5)"
      ]
     },
     "execution_count": 28,
     "metadata": {},
     "output_type": "execute_result"
    }
   ],
   "source": [
    "arr.shape"
   ]
  },
  {
   "cell_type": "markdown",
   "metadata": {},
   "source": [
    "##### Matrix-Vektorprodukt\n",
    "\n",
    "Berechnen Sie das Matrix-Vektor-Produkt (dot product) von `arr` mit $v$\n",
    "     \n",
    "$\n",
    "v = (1,2,3,4,5,6)^T\n",
    "$"
   ]
  },
  {
   "cell_type": "code",
   "execution_count": 27,
   "metadata": {
    "collapsed": false
   },
   "outputs": [
    {
     "data": {
      "text/plain": [
       "(6, 1)"
      ]
     },
     "execution_count": 27,
     "metadata": {},
     "output_type": "execute_result"
    }
   ],
   "source": [
    "v = np.array([ [1],[2],[3],[4],[5],[6] ])\n",
    "v.shape"
   ]
  },
  {
   "cell_type": "code",
   "execution_count": 31,
   "metadata": {
    "collapsed": false
   },
   "outputs": [
    {
     "data": {
      "text/plain": [
       "array([[[  1.,   1.,   1.,   1.,   1.],\n",
       "        [  1.,   2.,   1.,   1.,   1.],\n",
       "        [  1.,   1.,   3.,   1.,   1.],\n",
       "        [  1.,   1.,   1.,   4.,   1.]],\n",
       "\n",
       "       [[  2.,   2.,   2.,   2.,   2.],\n",
       "        [  2.,   4.,   2.,   2.,   2.],\n",
       "        [  2.,   2.,   6.,   2.,   2.],\n",
       "        [  2.,   2.,   2.,   8.,   2.]],\n",
       "\n",
       "       [[  3.,   3.,   3.,   3.,   3.],\n",
       "        [  3.,   6.,   3.,   3.,   3.],\n",
       "        [  3.,   3.,   9.,   3.,   3.],\n",
       "        [  3.,   3.,   3.,  12.,   3.]],\n",
       "\n",
       "       [[  4.,   4.,   4.,   4.,   4.],\n",
       "        [  4.,   8.,   4.,   4.,   4.],\n",
       "        [  4.,   4.,  12.,   4.,   4.],\n",
       "        [  4.,   4.,   4.,  16.,   4.]],\n",
       "\n",
       "       [[  5.,   5.,   5.,   5.,   5.],\n",
       "        [  5.,  10.,   5.,   5.,   5.],\n",
       "        [  5.,   5.,  15.,   5.,   5.],\n",
       "        [  5.,   5.,   5.,  20.,   5.]],\n",
       "\n",
       "       [[  6.,   6.,   6.,   6.,   6.],\n",
       "        [  6.,  12.,   6.,   6.,   6.],\n",
       "        [  6.,   6.,  18.,   6.,   6.],\n",
       "        [  6.,   6.,   6.,  24.,   6.]]])"
      ]
     },
     "execution_count": 31,
     "metadata": {},
     "output_type": "execute_result"
    }
   ],
   "source": [
    "v.reshape(6,1,1) * arr.reshape(1,4,5)"
   ]
  }
 ],
 "metadata": {
  "kernelspec": {
   "display_name": "Python 3",
   "language": "python",
   "name": "python3"
  },
  "language_info": {
   "codemirror_mode": {
    "name": "ipython",
    "version": 3
   },
   "file_extension": ".py",
   "mimetype": "text/x-python",
   "name": "python",
   "nbconvert_exporter": "python",
   "pygments_lexer": "ipython3",
   "version": "3.6.0"
  }
 },
 "nbformat": 4,
 "nbformat_minor": 1
}
